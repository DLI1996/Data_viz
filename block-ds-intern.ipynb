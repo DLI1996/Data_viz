{
 "cells": [
  {
   "cell_type": "code",
   "execution_count": 26,
   "metadata": {},
   "outputs": [],
   "source": [
    "import pandas as pd\n",
    "import sqlite3"
   ]
  },
  {
   "attachments": {},
   "cell_type": "markdown",
   "metadata": {},
   "source": [
    "SQL"
   ]
  },
  {
   "attachments": {},
   "cell_type": "markdown",
   "metadata": {},
   "source": [
    "**Two tables:**\n",
    "- Invoices_table - Invoice_Id, User_id, Sent_at, Amount \n",
    "- Users_table - User_Id, Business_category, Created_at"
   ]
  },
  {
   "cell_type": "code",
   "execution_count": 27,
   "metadata": {},
   "outputs": [],
   "source": [
    "invoices_data = {\n",
    "    'Invoice_Id': [1, 2, 3, 4, 5],\n",
    "    'User_Id': [1, 2, 1, 3, 2],\n",
    "    'Sent_at': ['2022-01-01', '2022-01-02', '2022-01-03', '2022-01-04', '2022-01-05'],\n",
    "    'Amount': [100.00, 200.00, 300.00, 400.00, 500.00]\n",
    "}\n",
    "\n",
    "users_data = {\n",
    "    'User_Id': [1, 2, 3, 4, 5],\n",
    "    'Business_category': ['Retail', 'Hospitality', 'Technology', 'Education', 'Healthcare'],\n",
    "    'Created_at': ['2022-01-01', '2022-01-02', '2022-01-03', '2022-01-04', '2022-01-05']\n",
    "}\n",
    "\n",
    "invoices_df = pd.DataFrame(invoices_data)\n",
    "users_df = pd.DataFrame(users_data)"
   ]
  },
  {
   "cell_type": "code",
   "execution_count": 28,
   "metadata": {},
   "outputs": [
    {
     "data": {
      "text/plain": [
       "5"
      ]
     },
     "execution_count": 28,
     "metadata": {},
     "output_type": "execute_result"
    }
   ],
   "source": [
    "# create connection and convert dataframes to sql tables\n",
    "cnn = sqlite3.connect('block_ds_intern.db')\n",
    "invoices_df.to_sql('invoices', cnn, index=False)\n",
    "users_df.to_sql('users', cnn, index=False)"
   ]
  },
  {
   "cell_type": "code",
   "execution_count": 29,
   "metadata": {},
   "outputs": [],
   "source": [
    "# load sql module to iPython\n",
    "%load_ext sql\n",
    "%sql sqlite:///block_ds_intern.db"
   ]
  },
  {
   "cell_type": "code",
   "execution_count": 35,
   "metadata": {},
   "outputs": [
    {
     "name": "stdout",
     "output_type": "stream",
     "text": [
      " * sqlite:///block_ds_intern.db\n",
      "Done.\n"
     ]
    },
    {
     "data": {
      "text/html": [
       "<table>\n",
       "    <thead>\n",
       "        <tr>\n",
       "            <th>Invoice_Id</th>\n",
       "            <th>User_Id</th>\n",
       "            <th>Sent_at</th>\n",
       "            <th>Amount</th>\n",
       "        </tr>\n",
       "    </thead>\n",
       "    <tbody>\n",
       "        <tr>\n",
       "            <td>1</td>\n",
       "            <td>1</td>\n",
       "            <td>2022-01-01</td>\n",
       "            <td>100.0</td>\n",
       "        </tr>\n",
       "        <tr>\n",
       "            <td>2</td>\n",
       "            <td>2</td>\n",
       "            <td>2022-01-02</td>\n",
       "            <td>200.0</td>\n",
       "        </tr>\n",
       "        <tr>\n",
       "            <td>3</td>\n",
       "            <td>1</td>\n",
       "            <td>2022-01-03</td>\n",
       "            <td>300.0</td>\n",
       "        </tr>\n",
       "        <tr>\n",
       "            <td>4</td>\n",
       "            <td>3</td>\n",
       "            <td>2022-01-04</td>\n",
       "            <td>400.0</td>\n",
       "        </tr>\n",
       "        <tr>\n",
       "            <td>5</td>\n",
       "            <td>2</td>\n",
       "            <td>2022-01-05</td>\n",
       "            <td>500.0</td>\n",
       "        </tr>\n",
       "    </tbody>\n",
       "</table>"
      ],
      "text/plain": [
       "[(1, 1, '2022-01-01', 100.0),\n",
       " (2, 2, '2022-01-02', 200.0),\n",
       " (3, 1, '2022-01-03', 300.0),\n",
       " (4, 3, '2022-01-04', 400.0),\n",
       " (5, 2, '2022-01-05', 500.0)]"
      ]
     },
     "execution_count": 35,
     "metadata": {},
     "output_type": "execute_result"
    }
   ],
   "source": [
    "# cell magic to run sql queries\n",
    "%%sql \n",
    "SELECT * FROM invoices"
   ]
  },
  {
   "cell_type": "markdown",
   "metadata": {},
   "source": [
    "1) Top 10 senders who sent the most invoice"
   ]
  },
  {
   "cell_type": "code",
   "execution_count": 37,
   "metadata": {},
   "outputs": [
    {
     "name": "stdout",
     "output_type": "stream",
     "text": [
      " * sqlite:///block_ds_intern.db\n",
      "Done.\n"
     ]
    },
    {
     "data": {
      "text/html": [
       "<table>\n",
       "    <thead>\n",
       "        <tr>\n",
       "            <th>User_Id</th>\n",
       "            <th>num_invoices</th>\n",
       "        </tr>\n",
       "    </thead>\n",
       "    <tbody>\n",
       "        <tr>\n",
       "            <td>2</td>\n",
       "            <td>2</td>\n",
       "        </tr>\n",
       "        <tr>\n",
       "            <td>1</td>\n",
       "            <td>2</td>\n",
       "        </tr>\n",
       "        <tr>\n",
       "            <td>3</td>\n",
       "            <td>1</td>\n",
       "        </tr>\n",
       "    </tbody>\n",
       "</table>"
      ],
      "text/plain": [
       "[(2, 2), (1, 2), (3, 1)]"
      ]
     },
     "execution_count": 37,
     "metadata": {},
     "output_type": "execute_result"
    }
   ],
   "source": [
    "%%sql\n",
    "SELECT User_Id, COUNT(*) AS num_invoices\n",
    "FROM invoices\n",
    "GROUP BY User_Id\n",
    "ORDER BY num_invoices DESC\n",
    "LIMIT 10;"
   ]
  },
  {
   "cell_type": "markdown",
   "metadata": {},
   "source": [
    "2) The most recent invoice details per sender"
   ]
  },
  {
   "cell_type": "code",
   "execution_count": 40,
   "metadata": {},
   "outputs": [
    {
     "name": "stdout",
     "output_type": "stream",
     "text": [
      " * sqlite:///block_ds_intern.db\n",
      "Done.\n"
     ]
    },
    {
     "data": {
      "text/html": [
       "<table>\n",
       "    <thead>\n",
       "        <tr>\n",
       "            <th>Invoice_Id</th>\n",
       "            <th>User_Id</th>\n",
       "            <th>Sent_at</th>\n",
       "            <th>Amount</th>\n",
       "        </tr>\n",
       "    </thead>\n",
       "    <tbody>\n",
       "        <tr>\n",
       "            <td>3</td>\n",
       "            <td>1</td>\n",
       "            <td>2022-01-03</td>\n",
       "            <td>300.0</td>\n",
       "        </tr>\n",
       "        <tr>\n",
       "            <td>4</td>\n",
       "            <td>3</td>\n",
       "            <td>2022-01-04</td>\n",
       "            <td>400.0</td>\n",
       "        </tr>\n",
       "        <tr>\n",
       "            <td>5</td>\n",
       "            <td>2</td>\n",
       "            <td>2022-01-05</td>\n",
       "            <td>500.0</td>\n",
       "        </tr>\n",
       "    </tbody>\n",
       "</table>"
      ],
      "text/plain": [
       "[(3, 1, '2022-01-03', 300.0),\n",
       " (4, 3, '2022-01-04', 400.0),\n",
       " (5, 2, '2022-01-05', 500.0)]"
      ]
     },
     "execution_count": 40,
     "metadata": {},
     "output_type": "execute_result"
    }
   ],
   "source": [
    "%%sql\n",
    "SELECT i.*\n",
    "FROM invoices i\n",
    "INNER JOIN (\n",
    "    SELECT User_Id, MAX(Sent_at) AS max_sent_at\n",
    "    FROM invoices\n",
    "    GROUP BY User_Id\n",
    ") max_i\n",
    "ON i.User_Id = max_i.User_Id AND i.Sent_at = max_i.max_sent_at"
   ]
  },
  {
   "cell_type": "markdown",
   "metadata": {},
   "source": [
    "Same thing using CTE (Common Table Expression) and window function"
   ]
  },
  {
   "cell_type": "code",
   "execution_count": 44,
   "metadata": {},
   "outputs": [
    {
     "name": "stdout",
     "output_type": "stream",
     "text": [
      " * sqlite:///block_ds_intern.db\n",
      "Done.\n"
     ]
    },
    {
     "data": {
      "text/html": [
       "<table>\n",
       "    <thead>\n",
       "        <tr>\n",
       "            <th>Invoice_Id</th>\n",
       "            <th>User_Id</th>\n",
       "            <th>Sent_at</th>\n",
       "            <th>Amount</th>\n",
       "        </tr>\n",
       "    </thead>\n",
       "    <tbody>\n",
       "        <tr>\n",
       "            <td>3</td>\n",
       "            <td>1</td>\n",
       "            <td>2022-01-03</td>\n",
       "            <td>300.0</td>\n",
       "        </tr>\n",
       "        <tr>\n",
       "            <td>5</td>\n",
       "            <td>2</td>\n",
       "            <td>2022-01-05</td>\n",
       "            <td>500.0</td>\n",
       "        </tr>\n",
       "        <tr>\n",
       "            <td>4</td>\n",
       "            <td>3</td>\n",
       "            <td>2022-01-04</td>\n",
       "            <td>400.0</td>\n",
       "        </tr>\n",
       "    </tbody>\n",
       "</table>"
      ],
      "text/plain": [
       "[(3, 1, '2022-01-03', 300.0),\n",
       " (5, 2, '2022-01-05', 500.0),\n",
       " (4, 3, '2022-01-04', 400.0)]"
      ]
     },
     "execution_count": 44,
     "metadata": {},
     "output_type": "execute_result"
    }
   ],
   "source": [
    "%%sql\n",
    "SELECT Invoice_Id, User_Id, Sent_at, Amount\n",
    "FROM (\n",
    "    SELECT Invoice_Id, User_Id, Sent_at, Amount,\n",
    "           ROW_NUMBER() OVER (PARTITION BY User_Id ORDER BY Sent_at DESC) AS rn\n",
    "    FROM invoices\n",
    ")\n",
    "WHERE rn = 1\n",
    "ORDER BY User_Id"
   ]
  },
  {
   "cell_type": "markdown",
   "metadata": {},
   "source": [
    "3) How many users in invoices table but not in users table?"
   ]
  },
  {
   "cell_type": "code",
   "execution_count": 45,
   "metadata": {},
   "outputs": [
    {
     "name": "stdout",
     "output_type": "stream",
     "text": [
      " * sqlite:///block_ds_intern.db\n",
      "Done.\n"
     ]
    },
    {
     "data": {
      "text/html": [
       "<table>\n",
       "    <thead>\n",
       "        <tr>\n",
       "            <th>num_users</th>\n",
       "        </tr>\n",
       "    </thead>\n",
       "    <tbody>\n",
       "        <tr>\n",
       "            <td>0</td>\n",
       "        </tr>\n",
       "    </tbody>\n",
       "</table>"
      ],
      "text/plain": [
       "[(0,)]"
      ]
     },
     "execution_count": 45,
     "metadata": {},
     "output_type": "execute_result"
    }
   ],
   "source": [
    "%%sql\n",
    "SELECT COUNT(DISTINCT Invoice_User.User_id) AS num_users\n",
    "FROM invoices AS Invoice_User\n",
    "LEFT JOIN users ON Invoice_User.User_id = users.User_Id\n",
    "WHERE users.User_Id IS NULL;"
   ]
  },
  {
   "cell_type": "markdown",
   "metadata": {},
   "source": [
    "4) How many users in users table but not in invoice table?"
   ]
  },
  {
   "cell_type": "code",
   "execution_count": 46,
   "metadata": {},
   "outputs": [
    {
     "name": "stdout",
     "output_type": "stream",
     "text": [
      " * sqlite:///block_ds_intern.db\n",
      "Done.\n"
     ]
    },
    {
     "data": {
      "text/html": [
       "<table>\n",
       "    <thead>\n",
       "        <tr>\n",
       "            <th>num_users</th>\n",
       "        </tr>\n",
       "    </thead>\n",
       "    <tbody>\n",
       "        <tr>\n",
       "            <td>2</td>\n",
       "        </tr>\n",
       "    </tbody>\n",
       "</table>"
      ],
      "text/plain": [
       "[(2,)]"
      ]
     },
     "execution_count": 46,
     "metadata": {},
     "output_type": "execute_result"
    }
   ],
   "source": [
    "%%sql\n",
    "SELECT COUNT(DISTINCT users.User_Id) AS num_users\n",
    "FROM users\n",
    "LEFT JOIN invoices AS Invoice_User ON users.User_Id = Invoice_User.User_id\n",
    "WHERE Invoice_User.Invoice_Id IS NULL;"
   ]
  },
  {
   "cell_type": "markdown",
   "metadata": {},
   "source": [
    "5) Total amount, total senders, total invoices by each category"
   ]
  },
  {
   "cell_type": "code",
   "execution_count": 47,
   "metadata": {},
   "outputs": [
    {
     "name": "stdout",
     "output_type": "stream",
     "text": [
      " * sqlite:///block_ds_intern.db\n",
      "Done.\n"
     ]
    },
    {
     "data": {
      "text/html": [
       "<table>\n",
       "    <thead>\n",
       "        <tr>\n",
       "            <th>Business_category</th>\n",
       "            <th>num_senders</th>\n",
       "            <th>num_invoices</th>\n",
       "            <th>total_amount</th>\n",
       "        </tr>\n",
       "    </thead>\n",
       "    <tbody>\n",
       "        <tr>\n",
       "            <td>Hospitality</td>\n",
       "            <td>1</td>\n",
       "            <td>2</td>\n",
       "            <td>700.0</td>\n",
       "        </tr>\n",
       "        <tr>\n",
       "            <td>Retail</td>\n",
       "            <td>1</td>\n",
       "            <td>2</td>\n",
       "            <td>400.0</td>\n",
       "        </tr>\n",
       "        <tr>\n",
       "            <td>Technology</td>\n",
       "            <td>1</td>\n",
       "            <td>1</td>\n",
       "            <td>400.0</td>\n",
       "        </tr>\n",
       "    </tbody>\n",
       "</table>"
      ],
      "text/plain": [
       "[('Hospitality', 1, 2, 700.0),\n",
       " ('Retail', 1, 2, 400.0),\n",
       " ('Technology', 1, 1, 400.0)]"
      ]
     },
     "execution_count": 47,
     "metadata": {},
     "output_type": "execute_result"
    }
   ],
   "source": [
    "%%sql\n",
    "SELECT \n",
    "    users.Business_category, \n",
    "    COUNT(DISTINCT invoices.User_id) AS num_senders,\n",
    "    COUNT(DISTINCT invoices.Invoice_Id) AS num_invoices,\n",
    "    SUM(invoices.Amount) AS total_amount\n",
    "FROM \n",
    "    users \n",
    "    JOIN invoices ON users.User_Id = invoices.User_id\n",
    "GROUP BY \n",
    "    users.Business_category;"
   ]
  },
  {
   "attachments": {},
   "cell_type": "markdown",
   "metadata": {},
   "source": [
    "6) For top 10 distinct users, what are the details of their most recent invoice?"
   ]
  },
  {
   "cell_type": "code",
   "execution_count": 54,
   "metadata": {},
   "outputs": [
    {
     "name": "stdout",
     "output_type": "stream",
     "text": [
      " * sqlite:///block_ds_intern.db\n",
      "Done.\n"
     ]
    },
    {
     "data": {
      "text/html": [
       "<table>\n",
       "    <thead>\n",
       "        <tr>\n",
       "            <th>User_Id</th>\n",
       "            <th>Business_category</th>\n",
       "            <th>Created_at</th>\n",
       "            <th>Invoice_Id</th>\n",
       "            <th>User_id</th>\n",
       "            <th>Sent_at</th>\n",
       "            <th>Amount</th>\n",
       "            <th>rn</th>\n",
       "        </tr>\n",
       "    </thead>\n",
       "    <tbody>\n",
       "        <tr>\n",
       "            <td>1</td>\n",
       "            <td>Retail</td>\n",
       "            <td>2022-01-01</td>\n",
       "            <td>3</td>\n",
       "            <td>1</td>\n",
       "            <td>2022-01-03</td>\n",
       "            <td>300.0</td>\n",
       "            <td>1</td>\n",
       "        </tr>\n",
       "    </tbody>\n",
       "</table>"
      ],
      "text/plain": [
       "[(1, 'Retail', '2022-01-01', 3, 1, '2022-01-03', 300.0, 1)]"
      ]
     },
     "execution_count": 54,
     "metadata": {},
     "output_type": "execute_result"
    }
   ],
   "source": [
    "%%sql\n",
    "WITH top_users AS (\n",
    "    SELECT DISTINCT User_Id, SUM(Amount) AS total_amount\n",
    "    FROM invoices\n",
    "    ORDER BY total_amount DESC\n",
    "    LIMIT 10\n",
    "), most_recent_invoices AS (\n",
    "    SELECT Invoice_Id, User_id, Sent_at, Amount,\n",
    "           ROW_NUMBER() OVER (PARTITION BY User_id ORDER BY Sent_at DESC) AS rn\n",
    "    FROM invoices\n",
    "    WHERE User_id IN (SELECT User_Id FROM top_users)\n",
    ")\n",
    "SELECT u.*, i.*\n",
    "FROM most_recent_invoices i\n",
    "INNER JOIN users u ON i.User_id = u.User_Id\n",
    "WHERE i.rn = 1"
   ]
  },
  {
   "attachments": {},
   "cell_type": "markdown",
   "metadata": {},
   "source": [
    "Python"
   ]
  },
  {
   "cell_type": "code",
   "execution_count": 2,
   "metadata": {},
   "outputs": [],
   "source": [
    "Mega = \"\"\"\n",
    "FeatureA: tag1, tag2\n",
    "FeatureB: tag3, tag4\n",
    "FeatureC: tag3, tag4\n",
    "FeatureD: tag1, tag3\n",
    "FeatureE: tag1\n",
    "\"\"\""
   ]
  },
  {
   "cell_type": "markdown",
   "metadata": {},
   "source": [
    "1. Parse Mega and store it into a data structure"
   ]
  },
  {
   "cell_type": "code",
   "execution_count": 23,
   "metadata": {},
   "outputs": [],
   "source": [
    "# Split the string into lines and remove any empty lines\n",
    "lines = [line.strip() for line in Mega.split('\\n') if line.strip()]\n",
    "# Split each line into a feature and its associated tags\n",
    "features = [line.split(': ') for line in lines]\n",
    "# Create a dictionary with the feature as the key and its tags as the value\n",
    "data_dict = {feature[0]: feature[1].split(', ') for feature in features}\n",
    "# find all tag mentioned in the data\n",
    "tags = set()\n",
    "for feature in data_dict:\n",
    "    for tag in data_dict[feature]:\n",
    "        tags.add(tag)\n",
    "tags_list = list(tags)"
   ]
  },
  {
   "cell_type": "code",
   "execution_count": 24,
   "metadata": {},
   "outputs": [],
   "source": [
    "# create a dataframe with the tags as columns\n",
    "df = pd.DataFrame(columns=tags_list)\n",
    "# fill the dataframe with the features\n",
    "for feature in data_dict:\n",
    "    df.loc[feature] = 0 #auto-generated index\n",
    "    for tag in data_dict[feature]:\n",
    "        df.loc[feature, tag] = 1\n",
    "# fill the empty cells with empty string\n",
    "df = df.fillna('')"
   ]
  },
  {
   "attachments": {},
   "cell_type": "markdown",
   "metadata": {},
   "source": [
    "2. Find out the features that include some tag"
   ]
  },
  {
   "cell_type": "code",
   "execution_count": 15,
   "metadata": {},
   "outputs": [
    {
     "data": {
      "text/plain": [
       "['FeatureA', 'FeatureD', 'FeatureE']"
      ]
     },
     "execution_count": 15,
     "metadata": {},
     "output_type": "execute_result"
    }
   ],
   "source": [
    "# find out the features that include tag1\n",
    "df[df['tag1'] == 1].index.tolist()"
   ]
  },
  {
   "attachments": {},
   "cell_type": "markdown",
   "metadata": {},
   "source": [
    "3. Find out the features that include tag 1 AND tag 2. "
   ]
  },
  {
   "cell_type": "code",
   "execution_count": 16,
   "metadata": {},
   "outputs": [
    {
     "data": {
      "text/plain": [
       "['FeatureA']"
      ]
     },
     "execution_count": 16,
     "metadata": {},
     "output_type": "execute_result"
    }
   ],
   "source": [
    "# Find out the features that include tag 1 AND tag 2\n",
    "df[(df['tag1'] == 1) & (df['tag2'] == 1)].index.tolist()"
   ]
  },
  {
   "cell_type": "markdown",
   "metadata": {},
   "source": [
    "4. Find out the features that include tab A or tag B"
   ]
  },
  {
   "cell_type": "code",
   "execution_count": 17,
   "metadata": {},
   "outputs": [
    {
     "data": {
      "text/plain": [
       "['FeatureA', 'FeatureD', 'FeatureE']"
      ]
     },
     "execution_count": 17,
     "metadata": {},
     "output_type": "execute_result"
    }
   ],
   "source": [
    "# find ou tthe features that include tag 1 OR tag 2\n",
    "df[(df['tag1'] == 1) | (df['tag2'] == 1)].index.tolist()"
   ]
  },
  {
   "attachments": {},
   "cell_type": "markdown",
   "metadata": {},
   "source": [
    "5. Find out the pairs of features that share the same tag"
   ]
  },
  {
   "cell_type": "code",
   "execution_count": 18,
   "metadata": {},
   "outputs": [
    {
     "name": "stdout",
     "output_type": "stream",
     "text": [
      "FeatureB FeatureC tag3\n",
      "FeatureB FeatureD tag3\n",
      "FeatureC FeatureB tag3\n",
      "FeatureC FeatureD tag3\n",
      "FeatureD FeatureB tag3\n",
      "FeatureD FeatureC tag3\n",
      "FeatureB FeatureC tag4\n",
      "FeatureC FeatureB tag4\n",
      "FeatureA FeatureD tag1\n",
      "FeatureA FeatureE tag1\n",
      "FeatureD FeatureA tag1\n",
      "FeatureD FeatureE tag1\n",
      "FeatureE FeatureA tag1\n",
      "FeatureE FeatureD tag1\n"
     ]
    }
   ],
   "source": [
    "# Find out the pairs of features that share the same tag\n",
    "for tag in tags_list:\n",
    "    for feature1 in df.index.tolist():\n",
    "        for feature2 in df.index.tolist():\n",
    "            if (feature1 != feature2) and (df.loc[feature1, tag] == 1) and (df.loc[feature2, tag] == 1):\n",
    "                print(feature1, feature2, tag)"
   ]
  },
  {
   "cell_type": "code",
   "execution_count": 59,
   "metadata": {},
   "outputs": [],
   "source": [
    "data = \"\"\"\n",
    "A: string splittable drop\n",
    "B: string splittable\n",
    "C: string categorical\n",
    "D: string categorical\n",
    "E: numeric\n",
    "F: numeric dollars\n",
    "G: numeric\n",
    "H: numeric\n",
    "I: string character\n",
    "\"\"\""
   ]
  },
  {
   "attachments": {},
   "cell_type": "markdown",
   "metadata": {},
   "source": [
    "1) write a function ot pase this metadata string and put it into a python function"
   ]
  },
  {
   "cell_type": "code",
   "execution_count": 76,
   "metadata": {},
   "outputs": [
    {
     "data": {
      "text/html": [
       "<div>\n",
       "<style scoped>\n",
       "    .dataframe tbody tr th:only-of-type {\n",
       "        vertical-align: middle;\n",
       "    }\n",
       "\n",
       "    .dataframe tbody tr th {\n",
       "        vertical-align: top;\n",
       "    }\n",
       "\n",
       "    .dataframe thead th {\n",
       "        text-align: right;\n",
       "    }\n",
       "</style>\n",
       "<table border=\"1\" class=\"dataframe\">\n",
       "  <thead>\n",
       "    <tr style=\"text-align: right;\">\n",
       "      <th></th>\n",
       "      <th>character</th>\n",
       "      <th>string</th>\n",
       "      <th>categorical</th>\n",
       "      <th>dollars</th>\n",
       "      <th>drop</th>\n",
       "      <th>splittable</th>\n",
       "      <th>numeric</th>\n",
       "    </tr>\n",
       "  </thead>\n",
       "  <tbody>\n",
       "    <tr>\n",
       "      <th>A</th>\n",
       "      <td>0</td>\n",
       "      <td>1</td>\n",
       "      <td>0</td>\n",
       "      <td>0</td>\n",
       "      <td>1</td>\n",
       "      <td>1</td>\n",
       "      <td>0</td>\n",
       "    </tr>\n",
       "    <tr>\n",
       "      <th>B</th>\n",
       "      <td>0</td>\n",
       "      <td>1</td>\n",
       "      <td>0</td>\n",
       "      <td>0</td>\n",
       "      <td>0</td>\n",
       "      <td>1</td>\n",
       "      <td>0</td>\n",
       "    </tr>\n",
       "    <tr>\n",
       "      <th>C</th>\n",
       "      <td>0</td>\n",
       "      <td>1</td>\n",
       "      <td>1</td>\n",
       "      <td>0</td>\n",
       "      <td>0</td>\n",
       "      <td>0</td>\n",
       "      <td>0</td>\n",
       "    </tr>\n",
       "    <tr>\n",
       "      <th>D</th>\n",
       "      <td>0</td>\n",
       "      <td>1</td>\n",
       "      <td>1</td>\n",
       "      <td>0</td>\n",
       "      <td>0</td>\n",
       "      <td>0</td>\n",
       "      <td>0</td>\n",
       "    </tr>\n",
       "    <tr>\n",
       "      <th>E</th>\n",
       "      <td>0</td>\n",
       "      <td>0</td>\n",
       "      <td>0</td>\n",
       "      <td>0</td>\n",
       "      <td>0</td>\n",
       "      <td>0</td>\n",
       "      <td>1</td>\n",
       "    </tr>\n",
       "  </tbody>\n",
       "</table>\n",
       "</div>"
      ],
      "text/plain": [
       "   character  string  categorical  dollars  drop  splittable  numeric\n",
       "A          0       1            0        0     1           1        0\n",
       "B          0       1            0        0     0           1        0\n",
       "C          0       1            1        0     0           0        0\n",
       "D          0       1            1        0     0           0        0\n",
       "E          0       0            0        0     0           0        1"
      ]
     },
     "execution_count": 76,
     "metadata": {},
     "output_type": "execute_result"
    }
   ],
   "source": [
    "# write a function ot pase this metadata string and put it into a python function\n",
    "def parse_metadata(data):\n",
    "    lines = [line.strip() for line in data.split('\\n') if line.strip()]\n",
    "    features = [line.split(': ') for line in lines]\n",
    "    data_dict = {feature[0]: feature[1].split(' ') for feature in features}\n",
    "    # find all tag mentioned in the data\n",
    "    tags = set()\n",
    "    for feature in data_dict:\n",
    "        for tag in data_dict[feature]:\n",
    "            tags.add(tag)\n",
    "    tag_list = list(tags)\n",
    "    # create a dataframe with the tags as columns\n",
    "    df = pd.DataFrame(columns=tag_list)\n",
    "    # fill the dataframe with the features\n",
    "    for feature in data_dict:\n",
    "        df.loc[feature] = 0 #auto-generated index\n",
    "        for tag in data_dict[feature]:\n",
    "            df.loc[feature, tag] = 1\n",
    "    # fill the empty cells with empty string\n",
    "    df = df.fillna('')\n",
    "    return df\n",
    "\n",
    "# test\n",
    "df = parse_metadata(data)\n",
    "df.head()"
   ]
  },
  {
   "attachments": {},
   "cell_type": "markdown",
   "metadata": {},
   "source": [
    "2) write a function that checks which features have a specific tag. What are all the features tagged 'numeric'?"
   ]
  },
  {
   "cell_type": "code",
   "execution_count": 77,
   "metadata": {},
   "outputs": [
    {
     "data": {
      "text/plain": [
       "['E', 'F', 'G', 'H']"
      ]
     },
     "execution_count": 77,
     "metadata": {},
     "output_type": "execute_result"
    }
   ],
   "source": [
    "# write a function that checks which features have a specific tag. What are all the features tagged 'numeric'?\n",
    "def check_tag(df, tag):\n",
    "    return df[df[tag] == 1].index.tolist()\n",
    "\n",
    "# test\n",
    "check_tag(df, 'numeric')"
   ]
  },
  {
   "cell_type": "markdown",
   "metadata": {},
   "source": [
    "3) write a funciton that checks which features have N specific tags. What are all the featured tagged 'string' and 'categorical'?"
   ]
  },
  {
   "cell_type": "code",
   "execution_count": 82,
   "metadata": {},
   "outputs": [
    {
     "name": "stdout",
     "output_type": "stream",
     "text": [
      "A     True\n",
      "B     True\n",
      "C     True\n",
      "D     True\n",
      "E    False\n",
      "F    False\n",
      "G    False\n",
      "H    False\n",
      "I     True\n",
      "Name: string, dtype: bool\n"
     ]
    },
    {
     "data": {
      "text/plain": [
       "['C', 'D']"
      ]
     },
     "execution_count": 82,
     "metadata": {},
     "output_type": "execute_result"
    }
   ],
   "source": [
    "# write a funciton that checks which features have N specific tags. What are all the featured tagged 'string' and 'categorical'?\n",
    "def check_tags(df, tags):\n",
    "    condition = df[tags[0]] == 1\n",
    "    for tag in tags[1:]:\n",
    "        condition = condition & (df[tag] == 1)\n",
    "    return df[condition].index.tolist()\n",
    "\n",
    "# test\n",
    "check_tags(df, ['string', 'categorical']) "
   ]
  }
 ],
 "metadata": {
  "kernelspec": {
   "display_name": "base",
   "language": "python",
   "name": "python3"
  },
  "language_info": {
   "codemirror_mode": {
    "name": "ipython",
    "version": 3
   },
   "file_extension": ".py",
   "mimetype": "text/x-python",
   "name": "python",
   "nbconvert_exporter": "python",
   "pygments_lexer": "ipython3",
   "version": "3.9.12"
  },
  "orig_nbformat": 4
 },
 "nbformat": 4,
 "nbformat_minor": 2
}
